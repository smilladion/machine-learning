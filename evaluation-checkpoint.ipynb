{
 "cells": [
  {
   "cell_type": "code",
   "execution_count": null,
   "metadata": {},
   "outputs": [],
   "source": [
    "from models import *\n",
    "\n",
    "import pandas as pd\n",
    "import numpy as np\n",
    "from trainers import SKLearnTrainer, PyTorchTrainer\n",
    "\n",
    "from fashionmnist_utils.mnist_reader import load_mnist\n",
    "\n",
    "import matplotlib.pyplot as plt\n",
    "import seaborn as sns\n"
   ]
  },
  {
   "cell_type": "code",
   "execution_count": null,
   "metadata": {},
   "outputs": [],
   "source": [
    "models = {\n",
    "    'SVM (linear)': SKLearnTrainer.load('models/LinearSVC-04-13--13-15-02.pkl'),\n",
    "    'SVM (poly)': SKLearnTrainer.load('models/SVC-04-13--13-18-41.pkl'),\n",
    "    'Logistic': SKLearnTrainer.load('models/LogisticRegression-04-13--13-14-51.pkl'),\n",
    "    'KNN': SKLearnTrainer.load('models/KNeighborsClassifier-04-13--13-24-00.pkl'),\n",
    "    #'Logistic Regression (PyTorch)': PyTorchTrainer.load('models/Linear-04-07--15-38-29.pkl'),\n",
    "    #'MPL': PyTorchTrainer.load('models/BasicNetwork-04-07--15-42-15.pkl'),\n",
    "    #'CNN': PyTorchTrainer.load('models/CNN-04-07--16-19-45.pkl'),\n",
    "    #'TOP': PyTorchTrainer.load('models/TopCNN-04-07--21-21-31.pkl')\n",
    "}\n"
   ]
  },
  {
   "cell_type": "code",
   "execution_count": null,
   "metadata": {},
   "outputs": [],
   "source": [
    "classes = [\n",
    "    't-shirt',\n",
    "    'trouser',\n",
    "    'pullover',\n",
    "    'dress',\n",
    "    'coat',\n",
    "    'sandal',\n",
    "    'shirt',\n",
    "    'sneaker',\n",
    "    'bag',\n",
    "    'ankle boot'\n",
    "]\n"
   ]
  },
  {
   "cell_type": "code",
   "execution_count": null,
   "metadata": {},
   "outputs": [],
   "source": [
    "loggers = {k: v.evaluate() for k, v in models.items()}"
   ]
  },
  {
   "cell_type": "code",
   "execution_count": null,
   "metadata": {},
   "outputs": [],
   "source": [
    "fig = plt.figure(figsize=(7, 7))\n",
    "sns.heatmap(loggers['SVM (linear)'].mat, annot=True, fmt='.0f', cbar=False, xticklabels=classes, yticklabels=classes, square=True)\n",
    "fig.savefig('img/confusion.pdf')"
   ]
  },
  {
   "cell_type": "code",
   "execution_count": null,
   "metadata": {},
   "outputs": [],
   "source": [
    "loggers['SVM (linear)'].recall\n"
   ]
  },
  {
   "cell_type": "code",
   "execution_count": null,
   "metadata": {},
   "outputs": [],
   "source": [
    "acc = [l.accuracy for l in loggers.values()]\n",
    "plt.figure(figsize=(10, 4))\n",
    "sns.barplot(y=list(models.keys()), x=acc)\n"
   ]
  },
  {
   "cell_type": "code",
   "execution_count": null,
   "metadata": {},
   "outputs": [],
   "source": [
    "ps = {k: v.precision for k, v in loggers.items()}\n",
    "ps = {'class': classes, **ps}\n",
    "\n",
    "df = pd.DataFrame(ps)\n",
    "df = df.melt(id_vars='class')\n",
    "\n",
    "plt.figure(figsize=(10, 4))\n",
    "sns.barplot(x='class', y='value', hue='variable', data=df)\n",
    "plt.legend(loc='lower right')\n"
   ]
  },
  {
   "cell_type": "code",
   "execution_count": null,
   "metadata": {},
   "outputs": [],
   "source": [
    "X_train, y_train = load_mnist('data/FashionMNIST/raw', kind='train')\n",
    "X_test, y_test = load_mnist('data/FashionMNIST/raw', kind='t10k')\n",
    "\n",
    "def show_samples(X, y, num, prediction=None, sort=True, cols=32, width_mul=1):\n",
    "    if prediction is None:\n",
    "        height_mul = 1\n",
    "    else:\n",
    "        height_mul = 2\n",
    "        \n",
    "    if sort: \n",
    "        idx = np.argsort(y[:num])\n",
    "        X = X[idx]\n",
    "        if prediction is not None:\n",
    "            prediction = prediction[idx]\n",
    "    fig, ax = plt.subplots(nrows=num//cols, ncols=cols, figsize=(width_mul*cols, height_mul*num//cols))\n",
    "    for i in range(num):\n",
    "        ax[i//cols, i%cols].axis('off')\n",
    "        ax[i//cols, i%cols].imshow(X[i].reshape((28, 28)), cmap='gray')\n",
    "        if prediction is not None:\n",
    "            ax[i//cols, i%cols].set_title(f'{classes[prediction[i]]}/{classes[y[i]]}')\n"
   ]
  },
  {
   "cell_type": "code",
   "execution_count": null,
   "metadata": {},
   "outputs": [],
   "source": [
    "show_samples(X_train, y_train, 32, cols=8)\n"
   ]
  },
  {
   "cell_type": "code",
   "execution_count": null,
   "metadata": {},
   "outputs": [],
   "source": [
    "p = models['SVM (linear)'].predict(X_test)\n",
    "\n",
    "#wrong = y_test != p\n",
    "\n",
    "X = X_test#[wrong]\n",
    "p = p#[wrong]\n",
    "y = y_test#[wrong]\n",
    "\n",
    "show_samples(X, y, 32, prediction=p, cols=8, sort=False, width_mul=2)\n",
    "plt.tight_layout()\n",
    "plt.savefig('img/result.pdf')\n"
   ]
  },
  {
   "cell_type": "code",
   "execution_count": null,
   "metadata": {},
   "outputs": [],
   "source": [
    "models['CNN'].predict(models['CNN'].test_data)\n"
   ]
  },
  {
   "cell_type": "code",
   "execution_count": null,
   "metadata": {},
   "outputs": [],
   "source": []
  }
 ],
 "metadata": {
  "kernelspec": {
   "display_name": "Python 3",
   "language": "python",
   "name": "python3"
  },
  "language_info": {
   "codemirror_mode": {
    "name": "ipython",
    "version": 3
   },
   "file_extension": ".py",
   "mimetype": "text/x-python",
   "name": "python",
   "nbconvert_exporter": "python",
   "pygments_lexer": "ipython3",
   "version": "3.8.8"
  }
 },
 "nbformat": 4,
 "nbformat_minor": 4
}
